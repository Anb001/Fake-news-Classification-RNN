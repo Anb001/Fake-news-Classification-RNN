{
 "cells": [
  {
   "cell_type": "code",
   "execution_count": 2,
   "id": "initial_id",
   "metadata": {
    "collapsed": true,
    "ExecuteTime": {
     "end_time": "2024-01-23T06:40:23.811044Z",
     "start_time": "2024-01-23T06:40:22.943490Z"
    }
   },
   "outputs": [],
   "source": [
    "import pandas as pd"
   ]
  },
  {
   "cell_type": "code",
   "execution_count": 3,
   "outputs": [],
   "source": [
    "df=pd.read_csv('data/train.csv')"
   ],
   "metadata": {
    "collapsed": false,
    "ExecuteTime": {
     "end_time": "2024-01-23T06:40:25.869186Z",
     "start_time": "2024-01-23T06:40:23.811854Z"
    }
   },
   "id": "73789b819996fe19"
  },
  {
   "cell_type": "code",
   "execution_count": 5,
   "outputs": [
    {
     "data": {
      "text/plain": "   id                                              title              author  \\\n0   0  House Dem Aide: We Didn’t Even See Comey’s Let...       Darrell Lucus   \n1   1  FLYNN: Hillary Clinton, Big Woman on Campus - ...     Daniel J. Flynn   \n2   2                  Why the Truth Might Get You Fired  Consortiumnews.com   \n3   3  15 Civilians Killed In Single US Airstrike Hav...     Jessica Purkiss   \n4   4  Iranian woman jailed for fictional unpublished...      Howard Portnoy   \n\n                                                text  label  \n0  House Dem Aide: We Didn’t Even See Comey’s Let...      1  \n1  Ever get the feeling your life circles the rou...      0  \n2  Why the Truth Might Get You Fired October 29, ...      1  \n3  Videos 15 Civilians Killed In Single US Airstr...      1  \n4  Print \\nAn Iranian woman has been sentenced to...      1  ",
      "text/html": "<div>\n<style scoped>\n    .dataframe tbody tr th:only-of-type {\n        vertical-align: middle;\n    }\n\n    .dataframe tbody tr th {\n        vertical-align: top;\n    }\n\n    .dataframe thead th {\n        text-align: right;\n    }\n</style>\n<table border=\"1\" class=\"dataframe\">\n  <thead>\n    <tr style=\"text-align: right;\">\n      <th></th>\n      <th>id</th>\n      <th>title</th>\n      <th>author</th>\n      <th>text</th>\n      <th>label</th>\n    </tr>\n  </thead>\n  <tbody>\n    <tr>\n      <th>0</th>\n      <td>0</td>\n      <td>House Dem Aide: We Didn’t Even See Comey’s Let...</td>\n      <td>Darrell Lucus</td>\n      <td>House Dem Aide: We Didn’t Even See Comey’s Let...</td>\n      <td>1</td>\n    </tr>\n    <tr>\n      <th>1</th>\n      <td>1</td>\n      <td>FLYNN: Hillary Clinton, Big Woman on Campus - ...</td>\n      <td>Daniel J. Flynn</td>\n      <td>Ever get the feeling your life circles the rou...</td>\n      <td>0</td>\n    </tr>\n    <tr>\n      <th>2</th>\n      <td>2</td>\n      <td>Why the Truth Might Get You Fired</td>\n      <td>Consortiumnews.com</td>\n      <td>Why the Truth Might Get You Fired October 29, ...</td>\n      <td>1</td>\n    </tr>\n    <tr>\n      <th>3</th>\n      <td>3</td>\n      <td>15 Civilians Killed In Single US Airstrike Hav...</td>\n      <td>Jessica Purkiss</td>\n      <td>Videos 15 Civilians Killed In Single US Airstr...</td>\n      <td>1</td>\n    </tr>\n    <tr>\n      <th>4</th>\n      <td>4</td>\n      <td>Iranian woman jailed for fictional unpublished...</td>\n      <td>Howard Portnoy</td>\n      <td>Print \\nAn Iranian woman has been sentenced to...</td>\n      <td>1</td>\n    </tr>\n  </tbody>\n</table>\n</div>"
     },
     "execution_count": 5,
     "metadata": {},
     "output_type": "execute_result"
    }
   ],
   "source": [
    "df.head()"
   ],
   "metadata": {
    "collapsed": false,
    "ExecuteTime": {
     "end_time": "2024-01-23T06:40:34.477144Z",
     "start_time": "2024-01-23T06:40:34.457418Z"
    }
   },
   "id": "5227353b0ce08282"
  },
  {
   "cell_type": "code",
   "execution_count": 7,
   "outputs": [
    {
     "data": {
      "text/plain": "id           0\ntitle      558\nauthor    1957\ntext        39\nlabel        0\ndtype: int64"
     },
     "execution_count": 7,
     "metadata": {},
     "output_type": "execute_result"
    }
   ],
   "source": [
    "df.isnull().sum()"
   ],
   "metadata": {
    "collapsed": false,
    "ExecuteTime": {
     "end_time": "2024-01-23T06:41:39.228754Z",
     "start_time": "2024-01-23T06:41:39.217960Z"
    }
   },
   "id": "52a11fc0e616bcd3"
  },
  {
   "cell_type": "code",
   "execution_count": 8,
   "outputs": [
    {
     "data": {
      "text/plain": "(20800, 5)"
     },
     "execution_count": 8,
     "metadata": {},
     "output_type": "execute_result"
    }
   ],
   "source": [
    "df.shape"
   ],
   "metadata": {
    "collapsed": false,
    "ExecuteTime": {
     "end_time": "2024-01-23T06:42:01.782679Z",
     "start_time": "2024-01-23T06:42:01.770524Z"
    }
   },
   "id": "1e8bc8a0a0e4fb35"
  },
  {
   "cell_type": "code",
   "execution_count": 9,
   "outputs": [],
   "source": [
    "df.dropna(inplace=True)"
   ],
   "metadata": {
    "collapsed": false,
    "ExecuteTime": {
     "end_time": "2024-01-23T06:42:19.903554Z",
     "start_time": "2024-01-23T06:42:19.896723Z"
    }
   },
   "id": "f434357aaae13761"
  },
  {
   "cell_type": "code",
   "execution_count": 10,
   "outputs": [
    {
     "data": {
      "text/plain": "(18285, 5)"
     },
     "execution_count": 10,
     "metadata": {},
     "output_type": "execute_result"
    }
   ],
   "source": [
    "df.shape"
   ],
   "metadata": {
    "collapsed": false,
    "ExecuteTime": {
     "end_time": "2024-01-23T06:42:22.211871Z",
     "start_time": "2024-01-23T06:42:22.185957Z"
    }
   },
   "id": "14f2343624f91af7"
  },
  {
   "cell_type": "code",
   "execution_count": 11,
   "outputs": [],
   "source": [
    "x=df['title']\n",
    "y=df['label']"
   ],
   "metadata": {
    "collapsed": false,
    "ExecuteTime": {
     "end_time": "2024-01-23T06:43:00.771836Z",
     "start_time": "2024-01-23T06:43:00.729011Z"
    }
   },
   "id": "b934c09173613638"
  },
  {
   "cell_type": "code",
   "execution_count": 12,
   "outputs": [
    {
     "data": {
      "text/plain": "label\n0    10361\n1     7924\nName: count, dtype: int64"
     },
     "execution_count": 12,
     "metadata": {},
     "output_type": "execute_result"
    }
   ],
   "source": [
    "y.value_counts()"
   ],
   "metadata": {
    "collapsed": false,
    "ExecuteTime": {
     "end_time": "2024-01-23T06:43:09.969877Z",
     "start_time": "2024-01-23T06:43:09.962895Z"
    }
   },
   "id": "dac4ca05f00d1dd4"
  },
  {
   "cell_type": "code",
   "execution_count": 13,
   "outputs": [],
   "source": [
    "import tensorflow as tf"
   ],
   "metadata": {
    "collapsed": false,
    "ExecuteTime": {
     "end_time": "2024-01-23T06:43:39.333747Z",
     "start_time": "2024-01-23T06:43:34.830912Z"
    }
   },
   "id": "f9fa8cab974d6270"
  },
  {
   "cell_type": "code",
   "execution_count": 16,
   "outputs": [],
   "source": [
    "from tensorflow.keras.layers import Embedding\n",
    "from tensorflow.keras.preprocessing.sequence import pad_sequences\n",
    "from tensorflow.keras.models import Sequential\n",
    "from tensorflow.keras.preprocessing.text import one_hot\n",
    "from tensorflow.keras.layers import LSTM\n",
    "from tensorflow.keras.layers import Dense\n",
    "from tensorflow.keras.layers import Bidirectional\n"
   ],
   "metadata": {
    "collapsed": false,
    "ExecuteTime": {
     "end_time": "2024-01-23T06:45:39.028399Z",
     "start_time": "2024-01-23T06:45:39.023996Z"
    }
   },
   "id": "1e70ff1cddf95d17"
  },
  {
   "cell_type": "code",
   "execution_count": 17,
   "outputs": [],
   "source": [
    "voc_size=5000"
   ],
   "metadata": {
    "collapsed": false,
    "ExecuteTime": {
     "end_time": "2024-01-23T06:45:53.795315Z",
     "start_time": "2024-01-23T06:45:53.774460Z"
    }
   },
   "id": "259ebdbe8cc40344"
  },
  {
   "cell_type": "code",
   "execution_count": 22,
   "outputs": [],
   "source": [
    "import nltk\n",
    "import re\n",
    "from nltk.corpus import stopwords\n",
    "from nltk.stem.porter import PorterStemmer\n",
    "ps=PorterStemmer()"
   ],
   "metadata": {
    "collapsed": false,
    "ExecuteTime": {
     "end_time": "2024-01-23T06:47:33.025139Z",
     "start_time": "2024-01-23T06:47:33.017051Z"
    }
   },
   "id": "3ea3fad544ca6757"
  },
  {
   "cell_type": "code",
   "execution_count": 25,
   "outputs": [],
   "source": [
    "def preprocess_text(x):\n",
    "    corpus=[]\n",
    "    for sent in x:\n",
    "        review=re.sub('[^a-zA-Z]',' ', sent)\n",
    "        review=review.lower()\n",
    "        review=review.split()\n",
    "        \n",
    "        review=[ps.stem(word) for word in review if not word in stopwords.words('english')]\n",
    "        review=' '.join(review)\n",
    "        \n",
    "        corpus.append(review)\n",
    "        \n",
    "    return corpus\n",
    "        "
   ],
   "metadata": {
    "collapsed": false,
    "ExecuteTime": {
     "end_time": "2024-01-23T06:50:39.787369Z",
     "start_time": "2024-01-23T06:50:39.779313Z"
    }
   },
   "id": "3b09f88bd1ea2cfe"
  },
  {
   "cell_type": "code",
   "execution_count": 27,
   "outputs": [],
   "source": [
    "processed_text=preprocess_text(x)"
   ],
   "metadata": {
    "collapsed": false,
    "ExecuteTime": {
     "end_time": "2024-01-23T06:51:40.911789Z",
     "start_time": "2024-01-23T06:51:18.755777Z"
    }
   },
   "id": "ad66f8478fac2264"
  },
  {
   "cell_type": "code",
   "execution_count": 28,
   "outputs": [
    {
     "data": {
      "text/plain": "['hous dem aid even see comey letter jason chaffetz tweet',\n 'flynn hillari clinton big woman campu breitbart',\n 'truth might get fire',\n 'civilian kill singl us airstrik identifi',\n 'iranian woman jail fiction unpublish stori woman stone death adulteri']"
     },
     "execution_count": 28,
     "metadata": {},
     "output_type": "execute_result"
    }
   ],
   "source": [
    "processed_text[:5]"
   ],
   "metadata": {
    "collapsed": false,
    "ExecuteTime": {
     "end_time": "2024-01-23T06:51:40.918678Z",
     "start_time": "2024-01-23T06:51:40.913716Z"
    }
   },
   "id": "5179e9693cc4f8a"
  },
  {
   "cell_type": "code",
   "execution_count": 29,
   "outputs": [
    {
     "data": {
      "text/plain": "[[1494, 404, 857, 116, 290, 4635, 625, 239, 2951, 2102],\n [2641, 3382, 3199, 600, 2901, 3270, 3772],\n [3851, 2754, 334, 1746],\n [4335, 4058, 2023, 16, 224, 2755],\n [3229, 2901, 2206, 4752, 2811, 247, 2901, 4543, 2773, 215]]"
     },
     "execution_count": 29,
     "metadata": {},
     "output_type": "execute_result"
    }
   ],
   "source": [
    "onehot_text= [one_hot(words, voc_size) for words in processed_text]\n",
    "onehot_text[:5]"
   ],
   "metadata": {
    "collapsed": false,
    "ExecuteTime": {
     "end_time": "2024-01-23T06:52:24.507458Z",
     "start_time": "2024-01-23T06:52:24.243619Z"
    }
   },
   "id": "23e41a452383b8b4"
  },
  {
   "cell_type": "code",
   "execution_count": 30,
   "outputs": [
    {
     "data": {
      "text/plain": "array([[   0,    0,    0,    0,    0,    0,    0,    0,    0,    0, 1494,\n         404,  857,  116,  290, 4635,  625,  239, 2951, 2102],\n       [   0,    0,    0,    0,    0,    0,    0,    0,    0,    0,    0,\n           0,    0, 2641, 3382, 3199,  600, 2901, 3270, 3772],\n       [   0,    0,    0,    0,    0,    0,    0,    0,    0,    0,    0,\n           0,    0,    0,    0,    0, 3851, 2754,  334, 1746],\n       [   0,    0,    0,    0,    0,    0,    0,    0,    0,    0,    0,\n           0,    0,    0, 4335, 4058, 2023,   16,  224, 2755],\n       [   0,    0,    0,    0,    0,    0,    0,    0,    0,    0, 3229,\n        2901, 2206, 4752, 2811,  247, 2901, 4543, 2773,  215]],\n      dtype=int32)"
     },
     "execution_count": 30,
     "metadata": {},
     "output_type": "execute_result"
    }
   ],
   "source": [
    "padded_text=pad_sequences(onehot_text, padding='pre', maxlen=20)\n",
    "padded_text[:5]"
   ],
   "metadata": {
    "collapsed": false,
    "ExecuteTime": {
     "end_time": "2024-01-23T06:52:58.067858Z",
     "start_time": "2024-01-23T06:52:58.027388Z"
    }
   },
   "id": "1281d52a0e341e25"
  },
  {
   "cell_type": "code",
   "execution_count": 31,
   "outputs": [],
   "source": [
    "model=Sequential()\n",
    "model.add(Embedding(voc_size,40, input_length=20))\n",
    "model.add(Bidirectional(LSTM(100)))\n",
    "model.add(Dense(1, activation='sigmoid'))\n",
    "model.compile(\n",
    "    optimizer='adam',\n",
    "    loss='binary_crossentropy',\n",
    "    metrics=['accuracy']\n",
    ")"
   ],
   "metadata": {
    "collapsed": false,
    "ExecuteTime": {
     "end_time": "2024-01-23T06:56:18.487679Z",
     "start_time": "2024-01-23T06:56:17.139476Z"
    }
   },
   "id": "e4c5a610f6839d43"
  },
  {
   "cell_type": "code",
   "execution_count": 32,
   "outputs": [
    {
     "name": "stdout",
     "output_type": "stream",
     "text": [
      "Model: \"sequential\"\n",
      "_________________________________________________________________\n",
      " Layer (type)                Output Shape              Param #   \n",
      "=================================================================\n",
      " embedding (Embedding)       (None, 20, 40)            200000    \n",
      "                                                                 \n",
      " bidirectional (Bidirection  (None, 200)               112800    \n",
      " al)                                                             \n",
      "                                                                 \n",
      " dense (Dense)               (None, 1)                 201       \n",
      "                                                                 \n",
      "=================================================================\n",
      "Total params: 313001 (1.19 MB)\n",
      "Trainable params: 313001 (1.19 MB)\n",
      "Non-trainable params: 0 (0.00 Byte)\n",
      "_________________________________________________________________\n"
     ]
    }
   ],
   "source": [
    "model.summary()"
   ],
   "metadata": {
    "collapsed": false,
    "ExecuteTime": {
     "end_time": "2024-01-23T06:56:23.090186Z",
     "start_time": "2024-01-23T06:56:23.069024Z"
    }
   },
   "id": "50ca51b71544dea7"
  },
  {
   "cell_type": "code",
   "execution_count": 33,
   "outputs": [],
   "source": [
    "import numpy as np\n",
    "x_train= np.array(padded_text)\n",
    "y_train= np.array(y)"
   ],
   "metadata": {
    "collapsed": false,
    "ExecuteTime": {
     "end_time": "2024-01-23T06:57:17.049105Z",
     "start_time": "2024-01-23T06:57:17.026581Z"
    }
   },
   "id": "43f49c8a2d8d5a5c"
  },
  {
   "cell_type": "code",
   "execution_count": 34,
   "outputs": [],
   "source": [
    "from sklearn.model_selection import train_test_split\n",
    "X_train,X_val, Y_train, Y_val= train_test_split(x_train,y_train, test_size=0.3, random_state=10, stratify=y_train)"
   ],
   "metadata": {
    "collapsed": false,
    "ExecuteTime": {
     "end_time": "2024-01-23T06:58:05.562689Z",
     "start_time": "2024-01-23T06:58:05.473927Z"
    }
   },
   "id": "71ee92e9dd28e6a3"
  },
  {
   "cell_type": "code",
   "execution_count": 35,
   "outputs": [
    {
     "name": "stdout",
     "output_type": "stream",
     "text": [
      "Epoch 1/10\n",
      "200/200 [==============================] - 10s 30ms/step - loss: 0.3161 - accuracy: 0.8533 - val_loss: 0.1900 - val_accuracy: 0.9247\n",
      "Epoch 2/10\n",
      "200/200 [==============================] - 5s 27ms/step - loss: 0.1410 - accuracy: 0.9440 - val_loss: 0.1811 - val_accuracy: 0.9247\n",
      "Epoch 3/10\n",
      "200/200 [==============================] - 6s 32ms/step - loss: 0.0987 - accuracy: 0.9645 - val_loss: 0.2156 - val_accuracy: 0.9249\n",
      "Epoch 4/10\n",
      "200/200 [==============================] - 7s 33ms/step - loss: 0.0669 - accuracy: 0.9763 - val_loss: 0.2441 - val_accuracy: 0.9178\n",
      "Epoch 5/10\n",
      "200/200 [==============================] - 6s 29ms/step - loss: 0.0447 - accuracy: 0.9848 - val_loss: 0.2814 - val_accuracy: 0.9196\n",
      "Epoch 6/10\n",
      "200/200 [==============================] - 8s 38ms/step - loss: 0.0270 - accuracy: 0.9915 - val_loss: 0.3308 - val_accuracy: 0.9187\n",
      "Epoch 7/10\n",
      "200/200 [==============================] - 6s 29ms/step - loss: 0.0179 - accuracy: 0.9947 - val_loss: 0.4367 - val_accuracy: 0.9169\n",
      "Epoch 8/10\n",
      "200/200 [==============================] - 7s 35ms/step - loss: 0.0125 - accuracy: 0.9970 - val_loss: 0.4212 - val_accuracy: 0.9220\n",
      "Epoch 9/10\n",
      "200/200 [==============================] - 7s 33ms/step - loss: 0.0093 - accuracy: 0.9977 - val_loss: 0.5106 - val_accuracy: 0.9185\n",
      "Epoch 10/10\n",
      "200/200 [==============================] - 7s 33ms/step - loss: 0.0087 - accuracy: 0.9977 - val_loss: 0.4720 - val_accuracy: 0.9169\n"
     ]
    },
    {
     "data": {
      "text/plain": "<keras.src.callbacks.History at 0x29bbe0be0>"
     },
     "execution_count": 35,
     "metadata": {},
     "output_type": "execute_result"
    }
   ],
   "source": [
    "model.fit(X_train,Y_train, validation_data=(X_val,Y_val),epochs=10, batch_size=64)"
   ],
   "metadata": {
    "collapsed": false,
    "ExecuteTime": {
     "end_time": "2024-01-23T07:00:09.596113Z",
     "start_time": "2024-01-23T06:59:01.496819Z"
    }
   },
   "id": "a323fb4dd6b776f9"
  },
  {
   "cell_type": "code",
   "execution_count": 36,
   "outputs": [
    {
     "name": "stdout",
     "output_type": "stream",
     "text": [
      "172/172 [==============================] - 2s 5ms/step\n"
     ]
    }
   ],
   "source": [
    "y_pred= model.predict(X_val)"
   ],
   "metadata": {
    "collapsed": false,
    "ExecuteTime": {
     "end_time": "2024-01-23T07:00:11.166803Z",
     "start_time": "2024-01-23T07:00:09.414513Z"
    }
   },
   "id": "a4d96bed13016365"
  },
  {
   "cell_type": "code",
   "execution_count": 40,
   "outputs": [
    {
     "data": {
      "text/plain": "[1, 1, 0, 1, 1]"
     },
     "execution_count": 40,
     "metadata": {},
     "output_type": "execute_result"
    }
   ],
   "source": [
    "y_pred= [round(pred[0]) for pred in y_pred]\n",
    "y_pred[:5]"
   ],
   "metadata": {
    "collapsed": false,
    "ExecuteTime": {
     "end_time": "2024-01-23T07:01:06.150828Z",
     "start_time": "2024-01-23T07:01:06.127444Z"
    }
   },
   "id": "4e699ebcb052798f"
  },
  {
   "cell_type": "code",
   "execution_count": 41,
   "outputs": [],
   "source": [
    "from sklearn.metrics import confusion_matrix\n",
    "from sklearn.metrics import accuracy_score\n",
    "from sklearn.metrics import classification_report"
   ],
   "metadata": {
    "collapsed": false,
    "ExecuteTime": {
     "end_time": "2024-01-23T07:01:08.823947Z",
     "start_time": "2024-01-23T07:01:08.807773Z"
    }
   },
   "id": "3714cbeb6fba951c"
  },
  {
   "cell_type": "code",
   "execution_count": 42,
   "outputs": [
    {
     "data": {
      "text/plain": "array([[2887,  234],\n       [ 222, 2143]])"
     },
     "execution_count": 42,
     "metadata": {},
     "output_type": "execute_result"
    }
   ],
   "source": [
    "confusion_matrix(y_pred,Y_val)"
   ],
   "metadata": {
    "collapsed": false,
    "ExecuteTime": {
     "end_time": "2024-01-23T07:01:09.374375Z",
     "start_time": "2024-01-23T07:01:09.353754Z"
    }
   },
   "id": "8d86e32291df532f"
  },
  {
   "cell_type": "code",
   "execution_count": 43,
   "outputs": [
    {
     "data": {
      "text/plain": "0.9168793292016041"
     },
     "execution_count": 43,
     "metadata": {},
     "output_type": "execute_result"
    }
   ],
   "source": [
    "accuracy_score(y_pred,Y_val)"
   ],
   "metadata": {
    "collapsed": false,
    "ExecuteTime": {
     "end_time": "2024-01-23T07:01:25.106069Z",
     "start_time": "2024-01-23T07:01:25.086470Z"
    }
   },
   "id": "ff7c2b0e043b6873"
  },
  {
   "cell_type": "code",
   "execution_count": 44,
   "outputs": [
    {
     "name": "stdout",
     "output_type": "stream",
     "text": [
      "              precision    recall  f1-score   support\n",
      "\n",
      "           0       0.93      0.93      0.93      3121\n",
      "           1       0.90      0.91      0.90      2365\n",
      "\n",
      "    accuracy                           0.92      5486\n",
      "   macro avg       0.92      0.92      0.92      5486\n",
      "weighted avg       0.92      0.92      0.92      5486\n"
     ]
    }
   ],
   "source": [
    "print(classification_report(y_pred, Y_val))"
   ],
   "metadata": {
    "collapsed": false,
    "ExecuteTime": {
     "end_time": "2024-01-23T07:01:45.426127Z",
     "start_time": "2024-01-23T07:01:45.322739Z"
    }
   },
   "id": "29530443904a5c03"
  },
  {
   "cell_type": "code",
   "execution_count": 47,
   "outputs": [],
   "source": [
    "df_test= pd.read_csv('data/test.csv')"
   ],
   "metadata": {
    "collapsed": false,
    "ExecuteTime": {
     "end_time": "2024-01-23T07:02:16.964470Z",
     "start_time": "2024-01-23T07:02:16.468138Z"
    }
   },
   "id": "23c32a7568412a85"
  },
  {
   "cell_type": "code",
   "execution_count": 49,
   "outputs": [
    {
     "data": {
      "text/plain": "id          0\ntitle     122\nauthor    503\ntext        7\ndtype: int64"
     },
     "execution_count": 49,
     "metadata": {},
     "output_type": "execute_result"
    }
   ],
   "source": [
    "df_test.isnull().sum()"
   ],
   "metadata": {
    "collapsed": false,
    "ExecuteTime": {
     "end_time": "2024-01-23T07:02:23.028406Z",
     "start_time": "2024-01-23T07:02:23.012798Z"
    }
   },
   "id": "658ec22d2a71c958"
  },
  {
   "cell_type": "code",
   "execution_count": 50,
   "outputs": [
    {
     "data": {
      "text/plain": "(5200, 4)"
     },
     "execution_count": 50,
     "metadata": {},
     "output_type": "execute_result"
    }
   ],
   "source": [
    "df_test.shape"
   ],
   "metadata": {
    "collapsed": false,
    "ExecuteTime": {
     "end_time": "2024-01-23T07:02:27.452246Z",
     "start_time": "2024-01-23T07:02:27.417337Z"
    }
   },
   "id": "b84756a03ca8006b"
  },
  {
   "cell_type": "code",
   "execution_count": 52,
   "outputs": [],
   "source": [
    "df_test.dropna(inplace=True)"
   ],
   "metadata": {
    "collapsed": false,
    "ExecuteTime": {
     "end_time": "2024-01-23T07:02:40.490556Z",
     "start_time": "2024-01-23T07:02:40.482022Z"
    }
   },
   "id": "32bf408f0b49eccb"
  },
  {
   "cell_type": "code",
   "execution_count": 53,
   "outputs": [
    {
     "data": {
      "text/plain": "(4575, 4)"
     },
     "execution_count": 53,
     "metadata": {},
     "output_type": "execute_result"
    }
   ],
   "source": [
    "df_test.shape"
   ],
   "metadata": {
    "collapsed": false,
    "ExecuteTime": {
     "end_time": "2024-01-23T07:02:44.955899Z",
     "start_time": "2024-01-23T07:02:44.922811Z"
    }
   },
   "id": "91cb2676c9e8409"
  },
  {
   "cell_type": "code",
   "execution_count": 54,
   "outputs": [
    {
     "data": {
      "text/plain": "['specter trump loosen tongu purs string silicon valley new york time',\n 'nodapl nativ american leader vow stay winter file lawsuit polic',\n 'tim tebow attempt anoth comeback time basebal new york time',\n 'keiser report meme war e',\n 'pelosi call fbi investig find russian donald trump breitbart']"
     },
     "execution_count": 54,
     "metadata": {},
     "output_type": "execute_result"
    }
   ],
   "source": [
    "processed_text_test=preprocess_text(df_test['title'])\n",
    "processed_text_test[:5]"
   ],
   "metadata": {
    "collapsed": false,
    "ExecuteTime": {
     "end_time": "2024-01-23T07:03:37.351455Z",
     "start_time": "2024-01-23T07:03:31.616643Z"
    }
   },
   "id": "88d81f99a45e9d41"
  },
  {
   "cell_type": "code",
   "execution_count": 55,
   "outputs": [
    {
     "data": {
      "text/plain": "[[2746, 1881, 550, 1005, 2302, 2813, 3276, 2973, 3329, 1277, 3953],\n [4485, 3415, 1647, 1915, 3697, 2644, 289, 2920, 3373, 3836],\n [722, 3956, 697, 4029, 2040, 3953, 3535, 3329, 1277, 3953],\n [2451, 2170, 2390, 3113, 2144],\n [1903, 3895, 4183, 4010, 3053, 1428, 269, 1881, 3772]]"
     },
     "execution_count": 55,
     "metadata": {},
     "output_type": "execute_result"
    }
   ],
   "source": [
    "onehot_text_test=[one_hot(words, voc_size) for words in processed_text_test]\n",
    "onehot_text_test[:5]"
   ],
   "metadata": {
    "collapsed": false,
    "ExecuteTime": {
     "end_time": "2024-01-23T07:04:11.738699Z",
     "start_time": "2024-01-23T07:04:11.703009Z"
    }
   },
   "id": "79980937ae6d52f4"
  },
  {
   "cell_type": "code",
   "execution_count": 57,
   "outputs": [
    {
     "data": {
      "text/plain": "array([[   0,    0,    0,    0,    0,    0,    0,    0,    0, 2746, 1881,\n         550, 1005, 2302, 2813, 3276, 2973, 3329, 1277, 3953],\n       [   0,    0,    0,    0,    0,    0,    0,    0,    0,    0, 4485,\n        3415, 1647, 1915, 3697, 2644,  289, 2920, 3373, 3836],\n       [   0,    0,    0,    0,    0,    0,    0,    0,    0,    0,  722,\n        3956,  697, 4029, 2040, 3953, 3535, 3329, 1277, 3953],\n       [   0,    0,    0,    0,    0,    0,    0,    0,    0,    0,    0,\n           0,    0,    0,    0, 2451, 2170, 2390, 3113, 2144],\n       [   0,    0,    0,    0,    0,    0,    0,    0,    0,    0,    0,\n        1903, 3895, 4183, 4010, 3053, 1428,  269, 1881, 3772]],\n      dtype=int32)"
     },
     "execution_count": 57,
     "metadata": {},
     "output_type": "execute_result"
    }
   ],
   "source": [
    "padded_text_test= pad_sequences(onehot_text_test, padding='pre', maxlen=20)\n",
    "padded_text_test[:5]"
   ],
   "metadata": {
    "collapsed": false,
    "ExecuteTime": {
     "end_time": "2024-01-23T07:04:48.185559Z",
     "start_time": "2024-01-23T07:04:48.112526Z"
    }
   },
   "id": "26aa7d2cb355e66f"
  },
  {
   "cell_type": "code",
   "execution_count": 58,
   "outputs": [
    {
     "name": "stdout",
     "output_type": "stream",
     "text": [
      "143/143 [==============================] - 1s 5ms/step\n"
     ]
    },
    {
     "data": {
      "text/plain": "array([[2.6299074e-07],\n       [4.3613167e-04],\n       [6.4243161e-04],\n       [9.9997044e-01],\n       [1.0582202e-03]], dtype=float32)"
     },
     "execution_count": 58,
     "metadata": {},
     "output_type": "execute_result"
    }
   ],
   "source": [
    "y_pred_final=model.predict(padded_text_test)\n",
    "y_pred_final[:5]"
   ],
   "metadata": {
    "collapsed": false,
    "ExecuteTime": {
     "end_time": "2024-01-23T07:05:16.166302Z",
     "start_time": "2024-01-23T07:05:14.761953Z"
    }
   },
   "id": "211d0e91e14f1f5c"
  },
  {
   "cell_type": "code",
   "execution_count": 59,
   "outputs": [
    {
     "data": {
      "text/plain": "[0, 0, 0, 1, 0]"
     },
     "execution_count": 59,
     "metadata": {},
     "output_type": "execute_result"
    }
   ],
   "source": [
    "y_pred_final=[round(pred[0]) for pred in y_pred_final]\n",
    "y_pred_final[:5]"
   ],
   "metadata": {
    "collapsed": false,
    "ExecuteTime": {
     "end_time": "2024-01-23T07:05:41.759239Z",
     "start_time": "2024-01-23T07:05:41.718612Z"
    }
   },
   "id": "359f588c0a76ed80"
  },
  {
   "cell_type": "code",
   "execution_count": 63,
   "outputs": [],
   "source": [
    "df_final=df_test.drop(['author','text'],axis=1)"
   ],
   "metadata": {
    "collapsed": false,
    "ExecuteTime": {
     "end_time": "2024-01-23T07:07:03.563845Z",
     "start_time": "2024-01-23T07:07:03.537266Z"
    }
   },
   "id": "293df992718953e2"
  },
  {
   "cell_type": "code",
   "execution_count": 64,
   "outputs": [
    {
     "data": {
      "text/plain": "         id                                              title\n0     20800  Specter of Trump Loosens Tongues, if Not Purse...\n2     20802  #NoDAPL: Native American Leaders Vow to Stay A...\n3     20803  Tim Tebow Will Attempt Another Comeback, This ...\n4     20804                    Keiser Report: Meme Wars (E995)\n6     20806  Pelosi Calls for FBI Investigation to Find Out...\n...     ...                                                ...\n5194  25994  Trump on If ’Tapes’ Exist of Comey Conversatio...\n5195  25995  The Bangladeshi Traffic Jam That Never Ends - ...\n5196  25996  John Kasich Signs One Abortion Bill in Ohio bu...\n5197  25997  California Today: What, Exactly, Is in Your Su...\n5199  25999  Awkward Sex, Onscreen and Off - The New York T...\n\n[4575 rows x 2 columns]",
      "text/html": "<div>\n<style scoped>\n    .dataframe tbody tr th:only-of-type {\n        vertical-align: middle;\n    }\n\n    .dataframe tbody tr th {\n        vertical-align: top;\n    }\n\n    .dataframe thead th {\n        text-align: right;\n    }\n</style>\n<table border=\"1\" class=\"dataframe\">\n  <thead>\n    <tr style=\"text-align: right;\">\n      <th></th>\n      <th>id</th>\n      <th>title</th>\n    </tr>\n  </thead>\n  <tbody>\n    <tr>\n      <th>0</th>\n      <td>20800</td>\n      <td>Specter of Trump Loosens Tongues, if Not Purse...</td>\n    </tr>\n    <tr>\n      <th>2</th>\n      <td>20802</td>\n      <td>#NoDAPL: Native American Leaders Vow to Stay A...</td>\n    </tr>\n    <tr>\n      <th>3</th>\n      <td>20803</td>\n      <td>Tim Tebow Will Attempt Another Comeback, This ...</td>\n    </tr>\n    <tr>\n      <th>4</th>\n      <td>20804</td>\n      <td>Keiser Report: Meme Wars (E995)</td>\n    </tr>\n    <tr>\n      <th>6</th>\n      <td>20806</td>\n      <td>Pelosi Calls for FBI Investigation to Find Out...</td>\n    </tr>\n    <tr>\n      <th>...</th>\n      <td>...</td>\n      <td>...</td>\n    </tr>\n    <tr>\n      <th>5194</th>\n      <td>25994</td>\n      <td>Trump on If ’Tapes’ Exist of Comey Conversatio...</td>\n    </tr>\n    <tr>\n      <th>5195</th>\n      <td>25995</td>\n      <td>The Bangladeshi Traffic Jam That Never Ends - ...</td>\n    </tr>\n    <tr>\n      <th>5196</th>\n      <td>25996</td>\n      <td>John Kasich Signs One Abortion Bill in Ohio bu...</td>\n    </tr>\n    <tr>\n      <th>5197</th>\n      <td>25997</td>\n      <td>California Today: What, Exactly, Is in Your Su...</td>\n    </tr>\n    <tr>\n      <th>5199</th>\n      <td>25999</td>\n      <td>Awkward Sex, Onscreen and Off - The New York T...</td>\n    </tr>\n  </tbody>\n</table>\n<p>4575 rows × 2 columns</p>\n</div>"
     },
     "execution_count": 64,
     "metadata": {},
     "output_type": "execute_result"
    }
   ],
   "source": [
    "df_final"
   ],
   "metadata": {
    "collapsed": false,
    "ExecuteTime": {
     "end_time": "2024-01-23T07:07:03.750479Z",
     "start_time": "2024-01-23T07:07:03.740877Z"
    }
   },
   "id": "6d4c639cd4a5aae8"
  },
  {
   "cell_type": "code",
   "execution_count": 65,
   "outputs": [],
   "source": [
    "df_final['label_pred']=y_pred_final"
   ],
   "metadata": {
    "collapsed": false,
    "ExecuteTime": {
     "end_time": "2024-01-23T07:07:25.395194Z",
     "start_time": "2024-01-23T07:07:25.323394Z"
    }
   },
   "id": "7735f783668c371c"
  },
  {
   "cell_type": "code",
   "execution_count": 66,
   "outputs": [
    {
     "data": {
      "text/plain": "      id                                              title  label_pred\n0  20800  Specter of Trump Loosens Tongues, if Not Purse...           0\n2  20802  #NoDAPL: Native American Leaders Vow to Stay A...           0\n3  20803  Tim Tebow Will Attempt Another Comeback, This ...           0\n4  20804                    Keiser Report: Meme Wars (E995)           1\n6  20806  Pelosi Calls for FBI Investigation to Find Out...           0",
      "text/html": "<div>\n<style scoped>\n    .dataframe tbody tr th:only-of-type {\n        vertical-align: middle;\n    }\n\n    .dataframe tbody tr th {\n        vertical-align: top;\n    }\n\n    .dataframe thead th {\n        text-align: right;\n    }\n</style>\n<table border=\"1\" class=\"dataframe\">\n  <thead>\n    <tr style=\"text-align: right;\">\n      <th></th>\n      <th>id</th>\n      <th>title</th>\n      <th>label_pred</th>\n    </tr>\n  </thead>\n  <tbody>\n    <tr>\n      <th>0</th>\n      <td>20800</td>\n      <td>Specter of Trump Loosens Tongues, if Not Purse...</td>\n      <td>0</td>\n    </tr>\n    <tr>\n      <th>2</th>\n      <td>20802</td>\n      <td>#NoDAPL: Native American Leaders Vow to Stay A...</td>\n      <td>0</td>\n    </tr>\n    <tr>\n      <th>3</th>\n      <td>20803</td>\n      <td>Tim Tebow Will Attempt Another Comeback, This ...</td>\n      <td>0</td>\n    </tr>\n    <tr>\n      <th>4</th>\n      <td>20804</td>\n      <td>Keiser Report: Meme Wars (E995)</td>\n      <td>1</td>\n    </tr>\n    <tr>\n      <th>6</th>\n      <td>20806</td>\n      <td>Pelosi Calls for FBI Investigation to Find Out...</td>\n      <td>0</td>\n    </tr>\n  </tbody>\n</table>\n</div>"
     },
     "execution_count": 66,
     "metadata": {},
     "output_type": "execute_result"
    }
   ],
   "source": [
    "df_final.head()"
   ],
   "metadata": {
    "collapsed": false,
    "ExecuteTime": {
     "end_time": "2024-01-23T07:07:30.395635Z",
     "start_time": "2024-01-23T07:07:30.367159Z"
    }
   },
   "id": "9212214856829738"
  },
  {
   "cell_type": "code",
   "execution_count": 67,
   "outputs": [],
   "source": [
    "df_final.to_csv('submission_bidirectional.csv', sep=',', index=False)"
   ],
   "metadata": {
    "collapsed": false,
    "ExecuteTime": {
     "end_time": "2024-01-23T07:08:07.595354Z",
     "start_time": "2024-01-23T07:08:07.523068Z"
    }
   },
   "id": "b21c1b64db3ab7d2"
  },
  {
   "cell_type": "code",
   "execution_count": null,
   "outputs": [],
   "source": [],
   "metadata": {
    "collapsed": false
   },
   "id": "576fcd2474b1dd10"
  }
 ],
 "metadata": {
  "kernelspec": {
   "display_name": "Python 3",
   "language": "python",
   "name": "python3"
  },
  "language_info": {
   "codemirror_mode": {
    "name": "ipython",
    "version": 2
   },
   "file_extension": ".py",
   "mimetype": "text/x-python",
   "name": "python",
   "nbconvert_exporter": "python",
   "pygments_lexer": "ipython2",
   "version": "2.7.6"
  }
 },
 "nbformat": 4,
 "nbformat_minor": 5
}
